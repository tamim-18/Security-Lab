{
 "cells": [
  {
   "cell_type": "code",
   "execution_count": 1,
   "metadata": {},
   "outputs": [
    {
     "name": "stderr",
     "output_type": "stream",
     "text": [
      "2024-02-14 19:17:55.249 \n",
      "  \u001b[33m\u001b[1mWarning:\u001b[0m to view this Streamlit app on a browser, run it with the following\n",
      "  command:\n",
      "\n",
      "    streamlit run /usr/lib/python3/dist-packages/ipykernel_launcher.py [ARGUMENTS]\n"
     ]
    }
   ],
   "source": [
    "import streamlit as st\n",
    "import numpy as np\n",
    "import math\n",
    "\n",
    "st.title(\"Hill Cipher Encryption/Decryption\")\n",
    "\n",
    "# Function to remove spaces from a sentence\n",
    "def remove_spaces(sentence):\n",
    "    return sentence.replace(\" \", \"\")\n",
    "\n",
    "# Function to calculate the modular inverse of a number\n",
    "def mod_inv(a, m):\n",
    "    for x in range(1, m):\n",
    "        if (a * x) % m == 1:\n",
    "            return x\n",
    "    return None\n",
    "\n",
    "# Function to calculate the modular inverse of a matrix\n",
    "def matrix_mod_inv(matrix, modulus):\n",
    "    det = int(np.round(np.linalg.det(matrix)))\n",
    "    det_inv = mod_inv(det, modulus)\n",
    "    if det_inv is None:\n",
    "        raise ValueError(\"Modular inverse does not exist.\")\n",
    "    matrix_modulus_inv = (det_inv * np.round(det * np.linalg.inv(matrix)).astype(int) % modulus)\n",
    "    return matrix_modulus_inv\n",
    "\n",
    "# Function to generate a key matrix from the given key string\n",
    "def generate_key_matrix(key):\n",
    "    keylen = len(key)\n",
    "    n = math.ceil(math.sqrt(keylen))\n",
    "    key_matrix = np.array([], dtype=int)\n",
    "    for i in range(n, keylen + n, n):\n",
    "        temp = np.array([])\n",
    "        string = key[(i - n):i]\n",
    "        for x in string:\n",
    "            temp = np.append(temp, (ord(x) - ord('A')))\n",
    "        if len(key_matrix):\n",
    "            key_matrix = np.vstack([key_matrix, temp])\n",
    "        else:\n",
    "            key_matrix = temp\n",
    "    return key_matrix\n",
    "\n",
    "# Function to generate a text matrix from the given text\n",
    "def generate_text_matrix(text):\n",
    "    tlen = len(text)\n",
    "    text_matrix = np.array([], dtype=int)\n",
    "    for i in range(tlen):\n",
    "        text_matrix = np.append(text_matrix, (ord(text[i]) - ord('A')))\n",
    "    text_matrix = np.resize(text_matrix, (tlen, 1))\n",
    "    return text_matrix\n",
    "\n",
    "# Function to encrypt text using the Hill Cipher\n",
    "def hill_encryption(text, key):\n",
    "    text_matrix = generate_text_matrix(text)\n",
    "    key_matrix = generate_key_matrix(key)\n",
    "    enc = np.dot(key_matrix, text_matrix) % 26\n",
    "    non_space_chars = sum(1 for char in text if char != ' ')\n",
    "    enc = np.resize(enc, (1, non_space_chars))\n",
    "    ec_text = ''\n",
    "    space_positions = []\n",
    "    for i, char in enumerate(text):\n",
    "        if char == ' ':\n",
    "            space_positions.append(i)\n",
    "    for i in enc[0]:\n",
    "        ec_text += chr(ord('A') + int(i))\n",
    "    return ec_text\n",
    "\n",
    "# Function to decrypt text using the Hill Cipher\n",
    "def hill_decryption(text, key):\n",
    "    keylen = len(key)\n",
    "    tlen = len(text)\n",
    "    n = math.ceil(math.sqrt(keylen))\n",
    "    text_matrix = generate_text_matrix(text)\n",
    "    key_matrix = generate_key_matrix(key)\n",
    "    key_matrix_inv = matrix_mod_inv(key_matrix, 26)\n",
    "    dec = np.dot(key_matrix_inv, text_matrix) % 26\n",
    "    non_space_chars = sum(1 for char in text if char != ' ')\n",
    "    dec = np.resize(dec, (1, non_space_chars))\n",
    "    dec_text = ''\n",
    "    for i in dec[0]:\n",
    "        dec_text += chr(ord('A') + int(i))\n",
    "    return dec_text\n",
    "\n",
    "# Streamlit UI\n",
    "option = st.radio(\"Choose operation:\", (\"Encryption\", \"Decryption\"))\n",
    "\n",
    "if option == \"Encryption\":\n",
    "    plaintext = st.text_input(\"Enter plaintext:\", \"\").upper()\n",
    "    key = st.text_input(\"Enter key:\", \"\").upper()\n",
    "    if st.button(\"Encrypt\"):\n",
    "        ciphertext = hill_encryption(plaintext, key)\n",
    "        st.success(f\"Encrypted ciphertext: {ciphertext}\")\n",
    "\n",
    "elif option == \"Decryption\":\n",
    "    ciphertext = st.text_input(\"Enter ciphertext:\", \"\").upper()\n",
    "    key = st.text_input(\"Enter key:\", \"\").upper()\n",
    "    if st.button(\"Decrypt\"):\n",
    "        plaintext = hill_decryption(ciphertext, key)\n",
    "        st.success(f\"Decrypted plaintext: {plaintext}\")\n"
   ]
  },
  {
   "cell_type": "code",
   "execution_count": 2,
   "metadata": {},
   "outputs": [
    {
     "name": "stdout",
     "output_type": "stream",
     "text": [
      "Defaulting to user installation because normal site-packages is not writeable\n",
      "\u001b[31mERROR: Could not find a version that satisfies the requirement stramlit (from versions: none)\u001b[0m\u001b[31m\n",
      "\u001b[0m\u001b[31mERROR: No matching distribution found for stramlit\u001b[0m\u001b[31m\n",
      "\u001b[0mNote: you may need to restart the kernel to use updated packages.\n"
     ]
    }
   ],
   "source": [
    "pip install stramlit"
   ]
  },
  {
   "cell_type": "code",
   "execution_count": null,
   "metadata": {},
   "outputs": [],
   "source": []
  }
 ],
 "metadata": {
  "kernelspec": {
   "display_name": "Python 3 (ipykernel)",
   "language": "python",
   "name": "python3"
  },
  "language_info": {
   "codemirror_mode": {
    "name": "ipython",
    "version": 3
   },
   "file_extension": ".py",
   "mimetype": "text/x-python",
   "name": "python",
   "nbconvert_exporter": "python",
   "pygments_lexer": "ipython3",
   "version": "3.10.12"
  }
 },
 "nbformat": 4,
 "nbformat_minor": 2
}
