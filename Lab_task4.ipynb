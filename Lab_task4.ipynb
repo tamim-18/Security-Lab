{
 "cells": [
  {
   "cell_type": "markdown",
   "metadata": {},
   "source": []
  },
  {
   "cell_type": "code",
   "execution_count": 1,
   "metadata": {},
   "outputs": [
    {
     "name": "stdout",
     "output_type": "stream",
     "text": [
      "Defaulting to user installation because normal site-packages is not writeable\n",
      "Requirement already satisfied: numpy in /home/tamim/.local/lib/python3.10/site-packages (1.26.3)\n",
      "Note: you may need to restart the kernel to use updated packages.\n"
     ]
    }
   ],
   "source": [
    "pip install numpy"
   ]
  },
  {
   "cell_type": "code",
   "execution_count": 2,
   "metadata": {},
   "outputs": [
    {
     "name": "stdout",
     "output_type": "stream",
     "text": [
      "Encrypted text: J\n"
     ]
    }
   ],
   "source": [
    "import numpy as np\n",
    "\n",
    "def hill_encrypt(plaintext, key):\n",
    "    # Define the mapping from characters to numbers\n",
    "    char_to_num = {chr(i + 65): i for i in range(26)}\n",
    "\n",
    "    # Prepare the plaintext matrix\n",
    "    plaintext = plaintext.upper().replace(\" \", \"\")\n",
    "    plaintext_num = [char_to_num[char] for char in plaintext]\n",
    "    while len(plaintext_num) % len(key) != 0:\n",
    "        plaintext_num.append(23)  # Adding padding (X=23) if necessary\n",
    "    plaintext_matrix = np.array(plaintext_num).reshape(-1, len(key))\n",
    "\n",
    "    # Prepare the key matrix\n",
    "    key = key.upper().replace(\" \", \"\")\n",
    "    key_num = [char_to_num[char] for char in key]\n",
    "    key_matrix = np.array(key_num).reshape(len(key), -1)\n",
    "\n",
    "    # Perform matrix multiplication\n",
    "    result_matrix = np.dot(plaintext_matrix, key_matrix) % 26\n",
    "\n",
    "    # Convert numerical values back to characters\n",
    "    encrypted_text = \"\"\n",
    "    for row in result_matrix:\n",
    "        for num in row:\n",
    "            encrypted_text += chr(num + 65)\n",
    "\n",
    "    return encrypted_text\n",
    "\n",
    "# Sample key and plaintext\n",
    "key = \"AWESOMEINTRODUCTIONTOCOMPUTERSECURITYANDFORENSICSU\"\n",
    "plaintext = \"SUSTCSE\"\n",
    "\n",
    "# Encrypt the plaintext\n",
    "encrypted_text = hill_encrypt(plaintext, key)\n",
    "print(\"Encrypted text:\", encrypted_text)\n"
   ]
  },
  {
   "cell_type": "code",
   "execution_count": null,
   "metadata": {},
   "outputs": [],
   "source": []
  }
 ],
 "metadata": {
  "kernelspec": {
   "display_name": "Python 3",
   "language": "python",
   "name": "python3"
  },
  "language_info": {
   "codemirror_mode": {
    "name": "ipython",
    "version": 3
   },
   "file_extension": ".py",
   "mimetype": "text/x-python",
   "name": "python",
   "nbconvert_exporter": "python",
   "pygments_lexer": "ipython3",
   "version": "3.10.12"
  }
 },
 "nbformat": 4,
 "nbformat_minor": 2
}
